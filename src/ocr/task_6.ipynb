{
  "nbformat": 4,
  "nbformat_minor": 0,
  "metadata": {
    "colab": {
      "provenance": []
    },
    "kernelspec": {
      "name": "python3",
      "display_name": "Python 3"
    },
    "language_info": {
      "name": "python"
    }
  },
  "cells": [
    {
      "cell_type": "code",
      "execution_count": null,
      "metadata": {
        "id": "ZSsIeDAmUdqJ"
      },
      "outputs": [],
      "source": [
        "import json\n",
        "from collections import defaultdict\n",
        "from datetime import datetime\n",
        "import statistics\n",
        "\n",
        "# Load the scraped message data\n",
        "with open(\"messages.json\", \"r\", encoding=\"utf-8\") as f:\n",
        "    raw_data = json.load(f)\n",
        "\n",
        "# Load auto-labeled NER data\n",
        "with open(\"auto_labeled.json\", \"r\", encoding=\"utf-8\") as f:\n",
        "    labeled_data = json.load(f)"
      ]
    },
    {
      "cell_type": "code",
      "source": [
        "combined_data = []\n",
        "for meta, ner in zip(raw_data, labeled_data):\n",
        "    combined_data.append({\n",
        "        \"channel\": meta[\"channel\"],\n",
        "        \"username\": meta[\"username\"],\n",
        "        \"timestamp\": meta[\"timestamp\"],\n",
        "        \"views\": meta.get(\"views\", 0),\n",
        "        \"tokens\": ner[\"tokens\"],\n",
        "        \"ner_tags\": ner[\"ner_tags\"]\n",
        "    })"
      ],
      "metadata": {
        "id": "f6O01I1qUiL9"
      },
      "execution_count": null,
      "outputs": []
    },
    {
      "cell_type": "code",
      "source": [
        "vendors = defaultdict(list)\n",
        "\n",
        "# Group by vendor\n",
        "for entry in combined_data:\n",
        "    vendors[entry[\"username\"]].append(entry)\n",
        "\n",
        "def extract_price(tokens, tags):\n",
        "    prices = []\n",
        "    for token, tag in zip(tokens, tags):\n",
        "        if tag == \"PRICE\":\n",
        "            token_clean = token.replace(\"ብር\", \"\").replace(\"ETB\", \"\").replace(\"Birr\", \"\")\n",
        "            try:\n",
        "                prices.append(float(token_clean))\n",
        "            except:\n",
        "                pass\n",
        "    return prices\n",
        "\n",
        "vendor_stats = {}\n",
        "\n",
        "for vendor, posts in vendors.items():\n",
        "    views = []\n",
        "    prices = []\n",
        "    timestamps = []\n",
        "\n",
        "    for post in posts:\n",
        "        views.append(post.get(\"views\", 0))\n",
        "        timestamps.append(datetime.fromisoformat(post[\"timestamp\"]))\n",
        "        prices.extend(extract_price(post[\"tokens\"], post[\"ner_tags\"]))\n",
        "\n",
        "    # Posting frequency\n",
        "    days = (max(timestamps) - min(timestamps)).days + 1\n",
        "    weeks = max(1, days / 7)\n",
        "    posts_per_week = round(len(posts) / weeks, 2)\n",
        "\n",
        "    avg_views = round(statistics.mean(views), 2) if views else 0\n",
        "    avg_price = round(statistics.mean(prices), 2) if prices else 0\n",
        "    top_post_index = views.index(max(views)) if views else -1\n",
        "    top_product = \" \".join([\n",
        "        tok for tok, tag in zip(posts[top_post_index][\"tokens\"], posts[top_post_index][\"ner_tags\"])\n",
        "        if tag == \"PRODUCT\"\n",
        "    ]) if top_post_index != -1 else \"N/A\"\n",
        "\n",
        "    top_price = next((tok for tok, tag in zip(posts[top_post_index][\"tokens\"], posts[top_post_index][\"ner_tags\"])\n",
        "                     if tag == \"PRICE\"), \"N/A\") if top_post_index != -1 else \"N/A\"\n",
        "\n",
        "    # Lending Score (example: 50% views, 50% posting activity)\n",
        "    lending_score = round((avg_views * 0.5) + (posts_per_week * 0.5), 2)\n",
        "\n",
        "    vendor_stats[vendor] = {\n",
        "        \"channel\": posts[0][\"channel\"],\n",
        "        \"avg_views\": avg_views,\n",
        "        \"posts_per_week\": posts_per_week,\n",
        "        \"avg_price\": avg_price,\n",
        "        \"top_product\": top_product,\n",
        "        \"top_price\": top_price,\n",
        "        \"lending_score\": lending_score\n",
        "    }"
      ],
      "metadata": {
        "id": "mxniBIo8UjXF"
      },
      "execution_count": null,
      "outputs": []
    },
    {
      "cell_type": "code",
      "source": [
        "import pandas as pd\n",
        "\n",
        "df = pd.DataFrame.from_dict(vendor_stats, orient=\"index\")\n",
        "df.reset_index(inplace=True)\n",
        "df.rename(columns={\"index\": \"Username\"}, inplace=True)\n",
        "df = df[[\"channel\", \"Username\", \"avg_views\", \"posts_per_week\", \"avg_price\", \"lending_score\"]]\n",
        "df.columns = [\"Channel Name\", \"Username\", \"Avg Views/Post\", \"Posts/Week\", \"Avg Price (ETB)\", \"Lending Score\"]\n",
        "\n",
        "df.to_csv(\"vendor_scorecard.csv\", index=False)\n",
        "print(df)\n"
      ],
      "metadata": {
        "id": "h0qR03soUm-6"
      },
      "execution_count": null,
      "outputs": []
    }
  ]
}